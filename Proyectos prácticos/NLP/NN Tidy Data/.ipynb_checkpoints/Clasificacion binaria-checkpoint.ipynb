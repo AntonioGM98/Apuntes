{
 "cells": [
  {
   "cell_type": "markdown",
   "id": "c8a18e69",
   "metadata": {},
   "source": [
    "# <span style=\"color: SlateBlue;\">Descripción de problema</span> "
   ]
  },
  {
   "cell_type": "markdown",
   "id": "edbbcfba",
   "metadata": {},
   "source": [
    "El dataset Sonar contiene información recopilada por un sonar de haz lateral (un dispositivo que emite ondas acústicas en el agua y registra las señales de eco reflejadas) en el océano. Las características de los datos incluyen medidas de frecuencia de las señales de eco a diferentes ángulos, lo que permite caracterizar los objetos sumergidos en el agua en función de cómo reflejan las ondas sonoras.\n",
    "\n",
    "El conjunto de datos Sonar consta de 208 ejemplos, cada uno de los cuales está etiquetado como \"M\" (mina) o \"R\" (roca). La tarea es construir un modelo de aprendizaje automático que pueda aprender a diferenciar entre minas y rocas utilizando estas características de sonar. "
   ]
  },
  {
   "cell_type": "markdown",
   "id": "d7ff73ab",
   "metadata": {},
   "source": [
    "<div class=\"alert alert-block alert-info\">\n",
    "    \n",
    "<i class=\"fa fa-info-circle\" aria-hidden=\"true\"></i>\n",
    "Más información sobre el dataset [Sonar](https://archive.ics.uci.edu/ml/datasets/Connectionist+Bench+(Sonar,+Mines+vs.+Rocks))"
   ]
  },
  {
   "cell_type": "markdown",
   "id": "71b3ad2f",
   "metadata": {},
   "source": [
    "# <span style=\"color: SlateBlue;\">Descripción de objetivos</span> "
   ]
  },
  {
   "cell_type": "markdown",
   "id": "8389577a",
   "metadata": {},
   "source": [
    "Vamos a utilizar un problema de clasificación binaria como es Sonar en el cual los datos de accuracy rondan el 84%.\n",
    "\n",
    "Comenzaremos tomando un modelo y resultado de referencia y buscaremos generar mejoras en los resultados obtenidos en base a dicho modelo."
   ]
  },
  {
   "cell_type": "markdown",
   "id": "fe1ffc95",
   "metadata": {},
   "source": [
    "# <span style=\"color: SlateBlue;\">Rendimiento del modelo de NN de referencia</span>  "
   ]
  },
  {
   "cell_type": "markdown",
   "id": "130f16cf",
   "metadata": {},
   "source": [
    "## Importamos clases y funciones necesarias"
   ]
  },
  {
   "cell_type": "code",
   "execution_count": 1,
   "id": "71ac8172",
   "metadata": {},
   "outputs": [],
   "source": [
    "import pandas as pd\n",
    "from keras.models import Sequential\n",
    "from keras.layers import Dense\n",
    "from scikeras.wrappers import KerasClassifier\n",
    "from sklearn.model_selection import cross_val_score, StratifiedKFold\n",
    "from sklearn.preprocessing import LabelEncoder"
   ]
  },
  {
   "cell_type": "markdown",
   "id": "03c3a12f",
   "metadata": {},
   "source": [
    "## Cargamos y dividimos el dataset"
   ]
  },
  {
   "cell_type": "code",
   "execution_count": 2,
   "id": "b80293ff",
   "metadata": {},
   "outputs": [],
   "source": [
    "df = pd.read_csv('../Datasets/sonar.all-data.csv', header=None)\n",
    "dataset = df.values"
   ]
  },
  {
   "cell_type": "code",
   "execution_count": 3,
   "id": "40a434a3",
   "metadata": {},
   "outputs": [],
   "source": [
    "X = dataset[:,0:60].astype(float)\n",
    "y = dataset[:, 60]"
   ]
  },
  {
   "cell_type": "markdown",
   "id": "ebf10269",
   "metadata": {},
   "source": [
    "## Transformación de las variables objetivos"
   ]
  },
  {
   "cell_type": "code",
   "execution_count": 4,
   "id": "5586be8e",
   "metadata": {},
   "outputs": [],
   "source": [
    "encoder = LabelEncoder()\n",
    "encoder.fit(y)\n",
    "y_encoded = encoder.transform(y)"
   ]
  },
  {
   "cell_type": "markdown",
   "id": "4a50af44",
   "metadata": {},
   "source": [
    "## Definimos el modelo base"
   ]
  },
  {
   "cell_type": "markdown",
   "id": "1941d3f8",
   "metadata": {},
   "source": [
    "- Tendrá una única capa oculta completamente conectada\n",
    "- Utilizamos la función de aplicación ReLu\n",
    "- Tendrá una única neurona de salida con función de activación sigmoidal\n",
    "- Utilizamos la función de pérdida logarítmica binaria (`binary_crossentropy`)\n",
    "- Utilizamos ADAM como algoritmo de optimización y la accuracy como métrica"
   ]
  },
  {
   "cell_type": "code",
   "execution_count": 5,
   "id": "5b8b1316",
   "metadata": {},
   "outputs": [],
   "source": [
    "def baseline_model():\n",
    "    model = Sequential()\n",
    "    \n",
    "    model.add(Dense(60, \n",
    "                    input_dim=60,\n",
    "                   activation='relu'))\n",
    "    \n",
    "    model.add(Dense(1,\n",
    "                    activation='sigmoid'))\n",
    "    \n",
    "    model.compile(loss='binary_crossentropy',\n",
    "                  optimizer='adam',\n",
    "                  metrics=['accuracy'])\n",
    "    \n",
    "    return model"
   ]
  },
  {
   "cell_type": "markdown",
   "id": "1a25a47c",
   "metadata": {},
   "source": [
    "## Evaluación del modelo"
   ]
  },
  {
   "cell_type": "markdown",
   "id": "f03b245d",
   "metadata": {},
   "source": [
    "Para la evaluación vamos a aplicar una validación cruzada de 10-fold y pasamos el número de epochs al `KerasClassifier`"
   ]
  },
  {
   "cell_type": "code",
   "execution_count": 6,
   "id": "16d9f291",
   "metadata": {},
   "outputs": [],
   "source": [
    "estimator = KerasClassifier(model=baseline_model,\n",
    "                           epochs=100,\n",
    "                           batch_size=5,\n",
    "                           verbose=0)"
   ]
  },
  {
   "cell_type": "code",
   "execution_count": 7,
   "id": "2eba986b",
   "metadata": {},
   "outputs": [
    {
     "name": "stdout",
     "output_type": "stream",
     "text": [
      "Accuracy base: 82.26% (6.99%)\n"
     ]
    }
   ],
   "source": [
    "kfold = StratifiedKFold(n_splits=10,\n",
    "                       shuffle=True)\n",
    "\n",
    "results = cross_val_score(estimator,\n",
    "                         X,\n",
    "                         y_encoded,\n",
    "                         cv=kfold)\n",
    "\n",
    "print('Accuracy base: %.2f%% (%.2f%%)' % (results.mean()*100, results.std()*100))"
   ]
  },
  {
   "cell_type": "markdown",
   "id": "e9dd8805",
   "metadata": {},
   "source": [
    "# <span style=\"color: SlateBlue;\">Optimización del rendimiento por procesamiento de datos</span> "
   ]
  },
  {
   "cell_type": "markdown",
   "id": "0ee6a2b3",
   "metadata": {},
   "source": [
    "La **estandarización** preserva las distribuciones gaussianas mientras normaliza las tendencias centrales para cada atributo. Para esto utilizaremos `StandardScaler` de scikit-learn\n",
    "\n",
    "**BUENA PRÁCTICA**: Entrenar el procedimiento de estandarización en los datos de entrenamiento dentro de una ejecución de validación cruzada y utilizar la instancia de estandarización entrenada para preparar el fold de validación no etiquetada.\n",
    "Utilizaremos la clase `Pipeline` de scikit learn"
   ]
  },
  {
   "cell_type": "code",
   "execution_count": 8,
   "id": "415ce08d",
   "metadata": {},
   "outputs": [],
   "source": [
    "from sklearn.preprocessing import StandardScaler\n",
    "from sklearn.pipeline import Pipeline"
   ]
  },
  {
   "cell_type": "code",
   "execution_count": 9,
   "id": "bcf73114",
   "metadata": {},
   "outputs": [],
   "source": [
    "estimators = []\n",
    "estimators.append(('standarize', StandardScaler()))\n",
    "estimators.append(('mlp', KerasClassifier(model=baseline_model,\n",
    "                           epochs=100,\n",
    "                           batch_size=5,\n",
    "                           verbose=0)))\n",
    "pipeline = Pipeline(estimators)"
   ]
  },
  {
   "cell_type": "code",
   "execution_count": 10,
   "id": "dde8cf97",
   "metadata": {},
   "outputs": [
    {
     "name": "stdout",
     "output_type": "stream",
     "text": [
      "Accuracy (Modelo estandarizado): 86.60% (9.72%)\n"
     ]
    }
   ],
   "source": [
    "kfold = StratifiedKFold(n_splits=10,\n",
    "                       shuffle=True)\n",
    "results = cross_val_score(pipeline,\n",
    "                         X,\n",
    "                         y_encoded,\n",
    "                         cv=kfold)\n",
    "\n",
    "print('Accuracy (Modelo estandarizado): %.2f%% (%.2f%%)' % (results.mean()*100, results.std()*100))"
   ]
  },
  {
   "cell_type": "markdown",
   "id": "0d11d0a8",
   "metadata": {},
   "source": [
    "# <span style=\"color: SlateBlue;\">Ajuste de neuronas y capas</span> "
   ]
  },
  {
   "cell_type": "markdown",
   "id": "733c2668",
   "metadata": {},
   "source": [
    "## Evaluación de una topología más pequeña"
   ]
  },
  {
   "cell_type": "markdown",
   "id": "d6ae897c",
   "metadata": {},
   "source": [
    "En la descripción del problema hemos visto que el sónar toma medidas desde distintos ángulos, de forma que se puede estar creando una redundancia en los datos y podemos probar a priorizar algunos ángulos que puedan ser más relevantes.\n",
    "\n",
    "Entonces, podemos forzar la extracción de las características por parte de la red restringiendo el espacio de la representación en la capa de entrada."
   ]
  },
  {
   "cell_type": "code",
   "execution_count": 11,
   "id": "05294abc",
   "metadata": {},
   "outputs": [],
   "source": [
    "def smaller_model():\n",
    "    model = Sequential()\n",
    "    \n",
    "    model.add(Dense(30, \n",
    "                    input_dim=60,\n",
    "                   activation='relu'))\n",
    "    \n",
    "    model.add(Dense(1,\n",
    "                    activation='sigmoid'))\n",
    "    \n",
    "    model.compile(loss='binary_crossentropy',\n",
    "                  optimizer='adam',\n",
    "                  metrics=['accuracy'])\n",
    "    \n",
    "    return model"
   ]
  },
  {
   "cell_type": "markdown",
   "id": "6f2feef8",
   "metadata": {},
   "source": [
    "Vamos a reutilizar la mejora anterior para potenciar los resultados obtenidos"
   ]
  },
  {
   "cell_type": "code",
   "execution_count": 12,
   "id": "104a0fc3",
   "metadata": {},
   "outputs": [],
   "source": [
    "estimators = []\n",
    "estimators.append(('standarize', StandardScaler()))\n",
    "estimators.append(('mlp', KerasClassifier(model=smaller_model,\n",
    "                           epochs=100,\n",
    "                           batch_size=5,\n",
    "                           verbose=0)))\n",
    "pipeline = Pipeline(estimators)"
   ]
  },
  {
   "cell_type": "code",
   "execution_count": 13,
   "id": "3392c045",
   "metadata": {},
   "outputs": [
    {
     "name": "stdout",
     "output_type": "stream",
     "text": [
      "Accuracy (Modelo más pequeño estandarizado): 85.60% (5.68%)\n"
     ]
    }
   ],
   "source": [
    "kfold = StratifiedKFold(n_splits=10,\n",
    "                        shuffle=True)\n",
    "\n",
    "results = cross_val_score(pipeline,\n",
    "                          X,\n",
    "                          y_encoded,\n",
    "                          cv=kfold)\n",
    "\n",
    "print('Accuracy (Modelo más pequeño estandarizado): %.2f%% (%.2f%%)' % (results.mean()*100, results.std()*100))"
   ]
  },
  {
   "cell_type": "markdown",
   "id": "2f3dcbd4",
   "metadata": {},
   "source": [
    "## Evaluación de una topología más grande"
   ]
  },
  {
   "cell_type": "markdown",
   "id": "8d1e5f2f",
   "metadata": {},
   "source": [
    "Una red con más capas ofrece más oportunidades para que la red extraiga características claves y las recombine de formas útiles no lineales. Nuestra nueva topología será la siguiente:\n",
    "```\n",
    "    60 inputs -> [60 -> 30] -> 1 output\n",
    "``` "
   ]
  },
  {
   "cell_type": "code",
   "execution_count": 17,
   "id": "d225060e",
   "metadata": {},
   "outputs": [],
   "source": [
    "def larger_model():\n",
    "    model = Sequential()\n",
    "    \n",
    "    model.add(Dense(60, \n",
    "                   input_dim=60,\n",
    "                   activation='relu'))\n",
    "    \n",
    "    model.add(Dense(30,\n",
    "                   activation='relu'))\n",
    "    \n",
    "    model.add(Dense(1,\n",
    "                    activation='sigmoid'))\n",
    "    \n",
    "    model.compile(loss='binary_crossentropy',\n",
    "                  optimizer='adam',\n",
    "                  metrics=['accuracy'])\n",
    "    \n",
    "    return model"
   ]
  },
  {
   "cell_type": "code",
   "execution_count": 18,
   "id": "568f3c82",
   "metadata": {},
   "outputs": [],
   "source": [
    "estimators = []\n",
    "estimators.append(('standarize', StandardScaler()))\n",
    "estimators.append(('mlp', KerasClassifier(model=larger_model,\n",
    "                           epochs=100,\n",
    "                           batch_size=5,\n",
    "                           verbose=0)))\n",
    "pipeline = Pipeline(estimators)"
   ]
  },
  {
   "cell_type": "code",
   "execution_count": 19,
   "id": "e6f92578",
   "metadata": {},
   "outputs": [
    {
     "name": "stdout",
     "output_type": "stream",
     "text": [
      "Accuracy (Modelo más grande estandarizado): 88.93% (6.44%)\n"
     ]
    }
   ],
   "source": [
    "kfold = StratifiedKFold(n_splits=10,\n",
    "                        shuffle=True)\n",
    "\n",
    "results = cross_val_score(pipeline,\n",
    "                          X,\n",
    "                          y_encoded,\n",
    "                          cv=kfold)\n",
    "\n",
    "print('Accuracy (Modelo más grande estandarizado): %.2f%% (%.2f%%)' % (results.mean()*100, results.std()*100))"
   ]
  },
  {
   "cell_type": "markdown",
   "id": "ad8f45c5",
   "metadata": {},
   "source": [
    "**PROBAR**: Bucle para cada \"mejora\" para comprobar la media de los datos obtenidos en vez de ejecuciones puntuales"
   ]
  }
 ],
 "metadata": {
  "kernelspec": {
   "display_name": "Python 3 (ipykernel)",
   "language": "python",
   "name": "python3"
  },
  "language_info": {
   "codemirror_mode": {
    "name": "ipython",
    "version": 3
   },
   "file_extension": ".py",
   "mimetype": "text/x-python",
   "name": "python",
   "nbconvert_exporter": "python",
   "pygments_lexer": "ipython3",
   "version": "3.10.9"
  }
 },
 "nbformat": 4,
 "nbformat_minor": 5
}
