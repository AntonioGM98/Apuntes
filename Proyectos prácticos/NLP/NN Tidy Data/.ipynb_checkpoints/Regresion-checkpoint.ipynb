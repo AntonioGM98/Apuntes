{
 "cells": [
  {
   "cell_type": "markdown",
   "id": "abe7d220",
   "metadata": {},
   "source": [
    "# <span style=\"color: SlateBlue;\">Contexto</span> "
   ]
  },
  {
   "cell_type": "markdown",
   "id": "7f4ae18b",
   "metadata": {},
   "source": [
    "Contiene información sobre diferentes atributos relacionados con viviendas en varios barrios de Boston, Massachusetts, Estados Unidos. El objetivo principal de este conjunto de datos es predecir el valor medio de las viviendas en esos barrios en función de las características proporcionadas.\n",
    "\n",
    "Atributos:\n",
    "   1. CRIM: Tasa de criminalidad per cápita por barrio.\n",
    "   2. ZN: Proporción de tierra residencial dividida en zonas para lotes grandes.\n",
    "   3. INDUS: Proporción de acres de negocios no minoristas por barrio.\n",
    "   4. CHAS: Variable ficticia de Charles River (1 si limita con el río, 0 en caso contrario).\n",
    "   5. NOX: Concentración de óxidos de nitrógeno (partes por 10 millones).\n",
    "   6. RM: Número promedio de habitaciones por vivienda.\n",
    "   7. AGE: Proporción de viviendas ocupadas por sus propietarios construidas antes de 1940.\n",
    "   8. DIS: Distancia ponderada a los centros de empleo en Boston.\n",
    "   9. RAD: Índice de accesibilidad a carreteras radiales.\n",
    "   10. TAX: Tasa de impuesto a la propiedad.\n",
    "   11. PTRATIO: Relación alumno-profesor en las escuelas locales.\n",
    "   12. B: Proporción de residentes afroamericanos por barrio.\n",
    "   13. LSTAT: Porcentaje de población de bajos ingresos.\n",
    "   14. MEDV: Valor medio de las viviendas ocupadas por sus propietarios en miles de dólares."
   ]
  },
  {
   "cell_type": "markdown",
   "id": "5006f350",
   "metadata": {},
   "source": [
    "# <span style=\"color: SlateBlue;\">Objetivo</span> "
   ]
  },
  {
   "cell_type": "markdown",
   "id": "720600b7",
   "metadata": {},
   "source": [
    "Desarrollar y evaluar modelos de redes neuronales para un problema de regresión. \n",
    "\n",
    "Partiremos de una red neuronal de referencia y buscaremos preparar los datos y optimizar la topología para mejorar los resultados obtenidos."
   ]
  },
  {
   "cell_type": "markdown",
   "id": "be68af97",
   "metadata": {},
   "source": [
    "# <span style=\"color: SlateBlue;\">Importar clases y funciones</span> "
   ]
  },
  {
   "cell_type": "code",
   "execution_count": 1,
   "id": "6f3983ed",
   "metadata": {},
   "outputs": [],
   "source": [
    "import pandas as pd\n",
    "from keras.models import Sequential\n",
    "from keras.layers import Dense\n",
    "from scikeras.wrappers import KerasRegressor\n",
    "from sklearn.model_selection import cross_val_score, KFold"
   ]
  },
  {
   "cell_type": "markdown",
   "id": "b6948065",
   "metadata": {},
   "source": [
    "## Obtención y división del dataset"
   ]
  },
  {
   "cell_type": "code",
   "execution_count": 6,
   "id": "1f897644",
   "metadata": {},
   "outputs": [],
   "source": [
    "df = pd.read_csv('../Datasets/housing.csv', delim_whitespace=True, header=None)"
   ]
  },
  {
   "cell_type": "code",
   "execution_count": 9,
   "id": "74322ce3",
   "metadata": {},
   "outputs": [],
   "source": [
    "dataset = df.values\n",
    "\n",
    "X = dataset[:, 0:13]\n",
    "y = dataset[:, 13]"
   ]
  },
  {
   "cell_type": "markdown",
   "id": "57e52bfc",
   "metadata": {},
   "source": [
    "# <span style=\"color: SlateBlue;\">Modelo de referencia</span> "
   ]
  },
  {
   "cell_type": "markdown",
   "id": "3860eddf",
   "metadata": {},
   "source": [
    "Nuestro modelo de referencia estará conformado por:\n",
    "\n",
    "   - Una única capa oculta completamente conectada con el mismo número de neuronas que los atributos de entrada (13)\n",
    "   - Función de activacion ReLu en la capa oculta\n",
    "   - ADAM como algoritmo de optimización y el MSE como función de pérdida\n",
    "   - El objeto wrapper para el modelo será un `KerasRegressor`\n",
    "   - Evaluamos el modelo con 10-fold"
   ]
  },
  {
   "cell_type": "code",
   "execution_count": 13,
   "id": "88f0eca6",
   "metadata": {},
   "outputs": [],
   "source": [
    "def baseline_model():\n",
    "    \n",
    "    model = Sequential()\n",
    "    \n",
    "    model.add(Dense(13, \n",
    "                    input_dim=13,\n",
    "                    activation='relu'))\n",
    "    \n",
    "    model.add(Dense(1))\n",
    "    \n",
    "    model.compile(loss='mean_squared_error',\n",
    "                 optimizer='adam')\n",
    "    \n",
    "    return model"
   ]
  },
  {
   "cell_type": "code",
   "execution_count": 19,
   "id": "395e3957",
   "metadata": {},
   "outputs": [],
   "source": [
    "estimator = KerasRegressor(model=baseline_model,\n",
    "                          epochs=100,\n",
    "                          batch_size=5,\n",
    "                          verbose=0)\n",
    "\n",
    "kfold = KFold(n_splits=10,\n",
    "             shuffle=True)\n",
    "\n",
    "results = cross_val_score(estimator,\n",
    "                         X,\n",
    "                         y,\n",
    "                         cv=kfold)"
   ]
  },
  {
   "cell_type": "code",
   "execution_count": 21,
   "id": "8c5803ac",
   "metadata": {},
   "outputs": [
    {
     "name": "stdout",
     "output_type": "stream",
     "text": [
      "Modelo base: -0.34 (1.17) MSE\n"
     ]
    }
   ],
   "source": [
    "print('Modelo base: %.2f (%.2f) MSE' % (results.mean(), results.std()))"
   ]
  },
  {
   "cell_type": "markdown",
   "id": "893fcb4d",
   "metadata": {},
   "source": [
    "# <span style=\"color: SlateBlue;\">Optimización por procesamiento de datos</span> "
   ]
  },
  {
   "cell_type": "code",
   "execution_count": null,
   "id": "4082d294",
   "metadata": {},
   "outputs": [],
   "source": []
  },
  {
   "cell_type": "markdown",
   "id": "d9e29ba1",
   "metadata": {},
   "source": []
  }
 ],
 "metadata": {
  "kernelspec": {
   "display_name": "Python 3 (ipykernel)",
   "language": "python",
   "name": "python3"
  },
  "language_info": {
   "codemirror_mode": {
    "name": "ipython",
    "version": 3
   },
   "file_extension": ".py",
   "mimetype": "text/x-python",
   "name": "python",
   "nbconvert_exporter": "python",
   "pygments_lexer": "ipython3",
   "version": "3.10.9"
  }
 },
 "nbformat": 4,
 "nbformat_minor": 5
}
