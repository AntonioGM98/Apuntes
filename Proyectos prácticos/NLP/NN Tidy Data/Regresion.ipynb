{
 "cells": [
  {
   "cell_type": "markdown",
   "id": "3d8c19fb",
   "metadata": {},
   "source": [
    "# <span style=\"color: SlateBlue;\">Contexto</span> "
   ]
  },
  {
   "cell_type": "markdown",
   "id": "1962a936",
   "metadata": {},
   "source": [
    "Contiene información sobre diferentes atributos relacionados con viviendas en varios barrios de Boston, Massachusetts, Estados Unidos. El objetivo principal de este conjunto de datos es predecir el valor medio de las viviendas en esos barrios en función de las características proporcionadas.\n",
    "\n",
    "Atributos:\n",
    "   1. CRIM: Tasa de criminalidad per cápita por barrio.\n",
    "   2. ZN: Proporción de tierra residencial dividida en zonas para lotes grandes.\n",
    "   3. INDUS: Proporción de acres de negocios no minoristas por barrio.\n",
    "   4. CHAS: Variable ficticia de Charles River (1 si limita con el río, 0 en caso contrario).\n",
    "   5. NOX: Concentración de óxidos de nitrógeno (partes por 10 millones).\n",
    "   6. RM: Número promedio de habitaciones por vivienda.\n",
    "   7. AGE: Proporción de viviendas ocupadas por sus propietarios construidas antes de 1940.\n",
    "   8. DIS: Distancia ponderada a los centros de empleo en Boston.\n",
    "   9. RAD: Índice de accesibilidad a carreteras radiales.\n",
    "   10. TAX: Tasa de impuesto a la propiedad.\n",
    "   11. PTRATIO: Relación alumno-profesor en las escuelas locales.\n",
    "   12. B: Proporción de residentes afroamericanos por barrio.\n",
    "   13. LSTAT: Porcentaje de población de bajos ingresos.\n",
    "   14. MEDV: Valor medio de las viviendas ocupadas por sus propietarios en miles de dólares."
   ]
  },
  {
   "cell_type": "markdown",
   "id": "d4f506e4",
   "metadata": {},
   "source": [
    "# <span style=\"color: SlateBlue;\">Objetivo</span> "
   ]
  },
  {
   "cell_type": "markdown",
   "id": "4e7d2e84",
   "metadata": {},
   "source": [
    "Desarrollar y evaluar modelos de redes neuronales para un problema de regresión. \n",
    "\n",
    "Partiremos de una red neuronal de referencia y buscaremos preparar los datos y optimizar la topología para mejorar los resultados obtenidos."
   ]
  },
  {
   "cell_type": "markdown",
   "id": "a77491b0",
   "metadata": {},
   "source": [
    "# <span style=\"color: SlateBlue;\">Importar clases y funciones</span> "
   ]
  },
  {
   "cell_type": "code",
   "execution_count": 1,
   "id": "d5ad26df",
   "metadata": {},
   "outputs": [],
   "source": [
    "import pandas as pd\n",
    "from keras.models import Sequential\n",
    "from keras.layers import Dense\n",
    "from scikeras.wrappers import KerasRegressor\n",
    "from sklearn.model_selection import cross_val_score, KFold"
   ]
  },
  {
   "cell_type": "markdown",
   "id": "0c80eab6",
   "metadata": {},
   "source": [
    "## Obtención y división del dataset"
   ]
  },
  {
   "cell_type": "code",
   "execution_count": 2,
   "id": "5e1900d9",
   "metadata": {},
   "outputs": [],
   "source": [
    "df = pd.read_csv('../Datasets/housing.csv', delim_whitespace=True, header=None)"
   ]
  },
  {
   "cell_type": "code",
   "execution_count": 3,
   "id": "367a368a",
   "metadata": {},
   "outputs": [],
   "source": [
    "dataset = df.values\n",
    "\n",
    "X = dataset[:, 0:13]\n",
    "y = dataset[:, 13]"
   ]
  },
  {
   "cell_type": "markdown",
   "id": "1963530d",
   "metadata": {},
   "source": [
    "# <span style=\"color: SlateBlue;\">Modelo de referencia</span> "
   ]
  },
  {
   "cell_type": "markdown",
   "id": "be082882",
   "metadata": {},
   "source": [
    "Nuestro modelo de referencia estará conformado por:\n",
    "\n",
    "   - Una única capa oculta completamente conectada con el mismo número de neuronas que los atributos de entrada (13)\n",
    "   - Función de activacion ReLu en la capa oculta\n",
    "   - ADAM como algoritmo de optimización y el MSE como función de pérdida\n",
    "   - El objeto wrapper para el modelo será un `KerasRegressor`\n",
    "   - Evaluamos el modelo con 10-fold"
   ]
  },
  {
   "cell_type": "code",
   "execution_count": 4,
   "id": "d2f1badd",
   "metadata": {},
   "outputs": [],
   "source": [
    "def baseline_model():\n",
    "    \n",
    "    model = Sequential()\n",
    "    \n",
    "    model.add(Dense(13, \n",
    "                    input_dim=13,\n",
    "                    activation='relu'))\n",
    "    \n",
    "    model.add(Dense(1))\n",
    "    \n",
    "    model.compile(loss='mean_squared_error',\n",
    "                 optimizer='adam')\n",
    "    \n",
    "    return model"
   ]
  },
  {
   "cell_type": "code",
   "execution_count": 5,
   "id": "5fb72877",
   "metadata": {},
   "outputs": [],
   "source": [
    "estimator = KerasRegressor(model=baseline_model,\n",
    "                          epochs=100,\n",
    "                          batch_size=5,\n",
    "                          verbose=0)\n",
    "\n",
    "kfold = KFold(n_splits=10,\n",
    "             shuffle=True)\n",
    "\n",
    "results = cross_val_score(estimator,\n",
    "                         X,\n",
    "                         y,\n",
    "                         cv=kfold)"
   ]
  },
  {
   "cell_type": "code",
   "execution_count": 6,
   "id": "e8ba914c",
   "metadata": {},
   "outputs": [
    {
     "name": "stdout",
     "output_type": "stream",
     "text": [
      "Modelo base: 0.58 (0.11) MSE\n"
     ]
    }
   ],
   "source": [
    "print('Modelo base: %.2f (%.2f) MSE' % (results.mean(), results.std()))"
   ]
  },
  {
   "cell_type": "markdown",
   "id": "fb37f2b5",
   "metadata": {},
   "source": [
    "# <span style=\"color: SlateBlue;\">Optimización por procesamiento de datos</span> "
   ]
  },
  {
   "cell_type": "code",
   "execution_count": 7,
   "id": "e585e4fa",
   "metadata": {},
   "outputs": [],
   "source": [
    "from sklearn.preprocessing import StandardScaler\n",
    "from sklearn.pipeline import Pipeline"
   ]
  },
  {
   "cell_type": "code",
   "execution_count": 8,
   "id": "c7a9ab14",
   "metadata": {},
   "outputs": [],
   "source": [
    "estimators = []\n",
    "estimators.append(('standarize', StandardScaler()))\n",
    "estimators.append(('NN', KerasRegressor(model=baseline_model,\n",
    "                                       epochs=100,\n",
    "                                       batch_size=5,\n",
    "                                       verbose=0)))\n",
    "pipeline = Pipeline(estimators)\n",
    "\n",
    "kfold = KFold(n_splits=10,\n",
    "             shuffle=True)\n",
    "\n",
    "results = cross_val_score(pipeline,\n",
    "                         X,\n",
    "                         y,\n",
    "                         cv=kfold)"
   ]
  },
  {
   "cell_type": "code",
   "execution_count": 9,
   "id": "4dbd3593",
   "metadata": {
    "scrolled": true
   },
   "outputs": [
    {
     "name": "stdout",
     "output_type": "stream",
     "text": [
      "Modelo estandarizado: 0.83 (0.10) MSE\n"
     ]
    }
   ],
   "source": [
    "print('Modelo estandarizado: %.2f (%.2f) MSE' % (results.mean(), results.std()))"
   ]
  },
  {
   "cell_type": "markdown",
   "id": "00b1688c",
   "metadata": {},
   "source": [
    "# <span style=\"color: SlateBlue;\">Ajuste de la topología</span> "
   ]
  },
  {
   "cell_type": "markdown",
   "id": "4f134e70",
   "metadata": {},
   "source": [
    "## Topología más profunda"
   ]
  },
  {
   "cell_type": "markdown",
   "id": "bacd0e50",
   "metadata": {},
   "source": [
    "Una posible forma de mejorar la red neuronal es hacerla más profunda, es decir, añadiendo más capas. En este caso vamos a utilizar una segunda capa oculta con aproximadamente la mitad de neuronas. Es decir:\n",
    "```\n",
    "            13 inputs -> [13 neuronas -> 6 neuronas] -> 1 output\n",
    "```\n",
    "\n",
    "Entonces, vamos a evaluar este modelo aplicando la estandarización anterior"
   ]
  },
  {
   "cell_type": "code",
   "execution_count": 11,
   "id": "90a904b5",
   "metadata": {},
   "outputs": [],
   "source": [
    "def deeper_model():\n",
    "    \n",
    "    model = Sequential()\n",
    "    \n",
    "    model.add(Dense(13, \n",
    "                    input_dim=13,\n",
    "                    activation='relu'))\n",
    "    model.add(Dense(6,\n",
    "                   activation='relu'))\n",
    "    model.add(Dense(1))\n",
    "    \n",
    "    model.compile(loss='mean_squared_error',\n",
    "                 optimizer='adam')\n",
    "    \n",
    "    return model"
   ]
  },
  {
   "cell_type": "code",
   "execution_count": 19,
   "id": "4f8f7652",
   "metadata": {},
   "outputs": [],
   "source": [
    "estimators = []\n",
    "estimators.append(('standarize', StandardScaler()))\n",
    "estimators.append(('Deep-NN', KerasRegressor(model=deeper_model,\n",
    "                                       epochs=100,\n",
    "                                       batch_size=5,\n",
    "                                       verbose=0)))\n",
    "pipeline = Pipeline(estimators)\n",
    "\n",
    "kfold = KFold(n_splits=10,\n",
    "             shuffle=True)\n",
    "\n",
    "results = cross_val_score(pipeline,\n",
    "                         X,\n",
    "                         y,\n",
    "                         cv=kfold)"
   ]
  },
  {
   "cell_type": "code",
   "execution_count": 20,
   "id": "ab243a22",
   "metadata": {},
   "outputs": [
    {
     "name": "stdout",
     "output_type": "stream",
     "text": [
      "Deep-NN+Estandarizado: 0.80 (0.17) MSE\n"
     ]
    }
   ],
   "source": [
    "print('Deep-NN+Estandarizado: %.2f (%.2f) MSE' % (results.mean(), results.std()))"
   ]
  },
  {
   "cell_type": "markdown",
   "id": "c2e3802a",
   "metadata": {},
   "source": [
    "## Topología más ancha"
   ]
  },
  {
   "cell_type": "markdown",
   "id": "cea4c1ab",
   "metadata": {},
   "source": [
    "Otra posible opción de mejorar la red neuronal es hacerla más amplia. En este caso vamos a utilizar 20 neuronas en la capa oculta. Es decir:\n",
    "```\n",
    "            13 inputs -> 20 neuronas -> 1 output\n",
    "```\n"
   ]
  },
  {
   "cell_type": "code",
   "execution_count": 23,
   "id": "b52872da",
   "metadata": {},
   "outputs": [],
   "source": [
    "def wider_model():\n",
    "    \n",
    "    model = Sequential()\n",
    "    \n",
    "    model.add(Dense(20, \n",
    "                    input_dim=13,\n",
    "                    activation='relu'))\n",
    "    model.add(Dense(1))\n",
    "    \n",
    "    model.compile(loss='mean_squared_error',\n",
    "                 optimizer='adam')\n",
    "    \n",
    "    return model"
   ]
  },
  {
   "cell_type": "code",
   "execution_count": 24,
   "id": "1e5b773d",
   "metadata": {},
   "outputs": [],
   "source": [
    "estimators = []\n",
    "estimators.append(('standarize', StandardScaler()))\n",
    "estimators.append(('Wider-NN', KerasRegressor(model=wider_model,\n",
    "                                       epochs=100,\n",
    "                                       batch_size=5,\n",
    "                                       verbose=0)))\n",
    "pipeline = Pipeline(estimators)\n",
    "\n",
    "kfold = KFold(n_splits=10,\n",
    "             shuffle=True)\n",
    "\n",
    "results = cross_val_score(pipeline,\n",
    "                         X,\n",
    "                         y,\n",
    "                         cv=kfold)"
   ]
  },
  {
   "cell_type": "code",
   "execution_count": 25,
   "id": "b3675090",
   "metadata": {},
   "outputs": [
    {
     "name": "stdout",
     "output_type": "stream",
     "text": [
      "Wider-NN+Estandarizado: 0.84 (0.06) MSE\n"
     ]
    }
   ],
   "source": [
    "print('Wider-NN+Estandarizado: %.2f (%.2f) MSE' % (results.mean(), results.std()))"
   ]
  }
 ],
 "metadata": {
  "kernelspec": {
   "display_name": "Python 3 (ipykernel)",
   "language": "python",
   "name": "python3"
  },
  "language_info": {
   "codemirror_mode": {
    "name": "ipython",
    "version": 3
   },
   "file_extension": ".py",
   "mimetype": "text/x-python",
   "name": "python",
   "nbconvert_exporter": "python",
   "pygments_lexer": "ipython3",
   "version": "3.10.9"
  }
 },
 "nbformat": 4,
 "nbformat_minor": 5
}
