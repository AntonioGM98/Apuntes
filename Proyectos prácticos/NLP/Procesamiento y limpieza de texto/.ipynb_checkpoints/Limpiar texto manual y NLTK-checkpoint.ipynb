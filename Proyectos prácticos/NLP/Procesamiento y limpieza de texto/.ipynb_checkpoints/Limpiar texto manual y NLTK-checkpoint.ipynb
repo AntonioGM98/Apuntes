{
 "cells": [
  {
   "cell_type": "markdown",
   "id": "063f12c4",
   "metadata": {},
   "source": [
    "# Contexto"
   ]
  },
  {
   "cell_type": "markdown",
   "id": "257b0e8c",
   "metadata": {},
   "source": [
    "Cuando trabajamos cualquier proyecto de Machine o Deep Learning primero nos toca elaborar la fase de procesamiento de datos; en NLP igual.\n",
    "\n",
    "Primero debemos limpiar el texto, lo que significa dividirlo en palabras y manejar la puntuación y el caso. En este tutorial, descubrirá cómo puede limpiar y preparar su texto para modelarlo con aprendizaje automático."
   ]
  },
  {
   "cell_type": "markdown",
   "id": "9d2672d2",
   "metadata": {},
   "source": [
    "# Limpieza de texto"
   ]
  },
  {
   "cell_type": "markdown",
   "id": "e4d4b41d",
   "metadata": {},
   "source": [
    "Si observamos el libro podemos ver:\n",
    "- Es un texto sin formato, no hay marcado para analizar\n",
    "- No hay errores tipográficos o de ortografía evidentes\n",
    "- Hay signos de puntuación\n",
    "- Hay descripciones con guión\n",
    "- Mucho uso del guión para continuar oraciones (Sustituir por comas?)\n",
    "- Hay nombres\n",
    "- En principio, no hay números que requieran tratamiento\n",
    "- Hay marcadores de sección"
   ]
  },
  {
   "cell_type": "markdown",
   "id": "d66d0538",
   "metadata": {},
   "source": [
    "# Tokenización manual"
   ]
  },
  {
   "cell_type": "markdown",
   "id": "9c70db88",
   "metadata": {},
   "source": [
    "Las principales herramientas a la hora del tratamiento manual del texto son las expresiones regulares y la división de cadenas"
   ]
  },
  {
   "cell_type": "markdown",
   "id": "6e40010b",
   "metadata": {},
   "source": [
    "## Carga de datos"
   ]
  },
  {
   "cell_type": "code",
   "execution_count": 1,
   "id": "9a3ccdd8",
   "metadata": {},
   "outputs": [],
   "source": [
    "filename = 'Data/metamorphosis.txt'\n",
    "text = open(filename,'rt').read()"
   ]
  },
  {
   "cell_type": "markdown",
   "id": "cd9e1ce5",
   "metadata": {},
   "source": [
    "## Dividir por espacios en blanco"
   ]
  },
  {
   "cell_type": "markdown",
   "id": "f0742f8b",
   "metadata": {},
   "source": [
    "Dividir el documento por espacios en blanco, incluidos \"\", nuevas líneas, tabulaciones mediante la función `split()` en la cadena cargada"
   ]
  },
  {
   "cell_type": "code",
   "execution_count": 2,
   "id": "534d4641",
   "metadata": {},
   "outputs": [
    {
     "name": "stdout",
     "output_type": "stream",
     "text": [
      "['One', 'morning,', 'when', 'Gregor', 'Samsa', 'woke', 'from', 'troubled', 'dreams,', 'he', 'found', 'himself', 'transformed', 'in', 'his', 'bed', 'into', 'a', 'horrible', 'vermin.', 'He', 'lay', 'on', 'his', 'armour-like', 'back,', 'and', 'if', 'he', 'lifted', 'his', 'head', 'a', 'little', 'he', 'could', 'see', 'his', 'brown', 'belly,', 'slightly', 'domed', 'and', 'divided', 'by', 'arches', 'into', 'stiff', 'sections.', 'The', 'bedding', 'was', 'hardly', 'able', 'to', 'cover', 'it', 'and', 'seemed', 'ready', 'to', 'slide', 'off', 'any', 'moment.', 'His', 'many', 'legs,', 'pitifully', 'thin', 'compared', 'with', 'the', 'size', 'of', 'the', 'rest', 'of', 'him,', 'waved', 'about', 'helplessly', 'as', 'he', 'looked.', '\"What\\'s', 'happened', 'to', 'me?\"', 'he', 'thought.', 'It', \"wasn't\", 'a', 'dream.', 'His', 'room,', 'a', 'proper', 'human']\n"
     ]
    }
   ],
   "source": [
    "words = text.split()\n",
    "print(words[:100])"
   ]
  },
  {
   "cell_type": "markdown",
   "id": "1a2f5b02",
   "metadata": {},
   "source": [
    "## Seleccion de palabras"
   ]
  },
  {
   "cell_type": "code",
   "execution_count": 3,
   "id": "8e50ce3b",
   "metadata": {},
   "outputs": [],
   "source": [
    "import re"
   ]
  },
  {
   "cell_type": "code",
   "execution_count": 4,
   "id": "056d80c0",
   "metadata": {},
   "outputs": [
    {
     "name": "stdout",
     "output_type": "stream",
     "text": [
      "['One', 'morning', 'when', 'Gregor', 'Samsa', 'woke', 'from', 'troubled', 'dreams', 'he', 'found', 'himself', 'transformed', 'in', 'his', 'bed', 'into', 'a', 'horrible', 'vermin', 'He', 'lay', 'on', 'his', 'armour', 'like', 'back', 'and', 'if', 'he', 'lifted', 'his', 'head', 'a', 'little', 'he', 'could', 'see', 'his', 'brown', 'belly', 'slightly', 'domed', 'and', 'divided', 'by', 'arches', 'into', 'stiff', 'sections', 'The', 'bedding', 'was', 'hardly', 'able', 'to', 'cover', 'it', 'and', 'seemed', 'ready', 'to', 'slide', 'off', 'any', 'moment', 'His', 'many', 'legs', 'pitifully', 'thin', 'compared', 'with', 'the', 'size', 'of', 'the', 'rest', 'of', 'him', 'waved', 'about', 'helplessly', 'as', 'he', 'looked', 'What', 's', 'happened', 'to', 'me', 'he', 'thought', 'It', 'wasn', 't', 'a', 'dream', 'His', 'room']\n"
     ]
    }
   ],
   "source": [
    "words = re.split(r'\\W+', text)\n",
    "print(words[:100])"
   ]
  },
  {
   "cell_type": "markdown",
   "id": "a44f94c8",
   "metadata": {},
   "source": [
    "## Dividir por espacios en blancos + quitar puntuación"
   ]
  },
  {
   "cell_type": "code",
   "execution_count": 5,
   "id": "5340812e",
   "metadata": {},
   "outputs": [],
   "source": [
    "import string"
   ]
  },
  {
   "cell_type": "markdown",
   "id": "ff692189",
   "metadata": {},
   "source": [
    "Podemos las expresiones regulares para seleccionar los caracteres de puntuación y la función `sub()` para reemplazarlos con nada"
   ]
  },
  {
   "cell_type": "code",
   "execution_count": 8,
   "id": "b96a270e",
   "metadata": {},
   "outputs": [
    {
     "name": "stdout",
     "output_type": "stream",
     "text": [
      "['One', 'morning,', 'when', 'Gregor', 'Samsa', 'woke', 'from', 'troubled', 'dreams,', 'he', 'found', 'himself', 'transformed', 'in', 'his', 'bed', 'into', 'a', 'horrible', 'vermin.', 'He', 'lay', 'on', 'his', 'armour-like', 'back,', 'and', 'if', 'he', 'lifted', 'his', 'head', 'a', 'little', 'he', 'could', 'see', 'his', 'brown', 'belly,', 'slightly', 'domed', 'and', 'divided', 'by', 'arches', 'into', 'stiff', 'sections.', 'The', 'bedding', 'was', 'hardly', 'able', 'to', 'cover', 'it', 'and', 'seemed', 'ready', 'to', 'slide', 'off', 'any', 'moment.', 'His', 'many', 'legs,', 'pitifully', 'thin', 'compared', 'with', 'the', 'size', 'of', 'the', 'rest', 'of', 'him,', 'waved', 'about', 'helplessly', 'as', 'he', 'looked.', '\"What\\'s', 'happened', 'to', 'me?\"', 'he', 'thought.', 'It', \"wasn't\", 'a', 'dream.', 'His', 'room,', 'a', 'proper', 'human']\n"
     ]
    }
   ],
   "source": [
    "words = text.split()\n",
    "\n",
    "re_punc = re.compile('[%s]' % re.escape(string.punctuation))\n",
    "\n",
    "print(words[:100])"
   ]
  },
  {
   "cell_type": "code",
   "execution_count": null,
   "id": "cb6d27d9",
   "metadata": {},
   "outputs": [],
   "source": []
  }
 ],
 "metadata": {
  "kernelspec": {
   "display_name": "Python 3 (ipykernel)",
   "language": "python",
   "name": "python3"
  },
  "language_info": {
   "codemirror_mode": {
    "name": "ipython",
    "version": 3
   },
   "file_extension": ".py",
   "mimetype": "text/x-python",
   "name": "python",
   "nbconvert_exporter": "python",
   "pygments_lexer": "ipython3",
   "version": "3.10.9"
  }
 },
 "nbformat": 4,
 "nbformat_minor": 5
}
