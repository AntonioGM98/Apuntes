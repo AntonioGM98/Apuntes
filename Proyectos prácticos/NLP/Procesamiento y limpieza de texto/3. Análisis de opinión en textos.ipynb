{
 "cells": [
  {
   "cell_type": "markdown",
   "id": "0e378912",
   "metadata": {},
   "source": [
    "# Análisis de opinión en textos"
   ]
  },
  {
   "cell_type": "markdown",
   "id": "93b13454",
   "metadata": {},
   "source": [
    "# 1. Introducción"
   ]
  },
  {
   "cell_type": "markdown",
   "id": "cfb082a2",
   "metadata": {},
   "source": [
    "Vamos a construir un modelo de clasificación a partir de 50000 comentarios sobre películas subidos a *Internet Movie Data Base*, y que están almacenados en archivos de texto. Este modelo deberá ser capaz de predecir si un nuevo comentario es positivo o negativo.\n",
    "\n",
    "Para poder entrenar un clasificador a partir de un conjunto de documentos de texto, es necesario representar datos en una matriz bidimensional. En el modelo *Bag of Words*, cada documento se representa a partir del conjunto de palabras que aparece en él. Previamente a construir la matriz de datos, elaboraremos un vocabulario con la unión de todos los términos que aparecen en algún momento en el documento.\n",
    "\n",
    "En la versión más básica, cada posición (*d*,*t*) de la matriz contiene el valor para la medida ***Term Frequency***, que se denota *$t f_{d,t}$*, y refleja el número de veces que aparece el término *t* en el documento *d*."
   ]
  },
  {
   "cell_type": "markdown",
   "id": "3cf8b3c6",
   "metadata": {},
   "source": [
    "Una vez se dispone de la representación en forma matricial, y puesto que se cuenta con el conjunto de valoraciones asociadas a cada revisión (aprendizaje supervisado), es posible coinstruir un modelo de clasificación. Este dependerá de la representación utilizada. Así, si se utiliza *t fid*$f_{d,t}$ se pueden utilizar métodos como regresión logística o SVM. En el caso de utilizar la aparición o no de cada término en la posición (d, t) de la matriz, se pueden utilizar otro métodos como *Naive Bayes*.\n",
    "\n",
    "Éste es el modelo más básico de análisis de opinión, pero existen modelos más complejos y refinados. Por otra parte, en muchos casos la diferencia en resultados no se debe solamente al clasificador elegido, sino del preprocesamiento que se haga sobre los textos, o a otros factores como el uso de n-gramas o POS tagging. Aquí, el preprocesamiento será sencillo, consitente en eliminar etiquetas HTML, caracteres no alfabéticos y reducir palabras a su raíz."
   ]
  },
  {
   "cell_type": "markdown",
   "id": "bef17ad8",
   "metadata": {},
   "source": [
    "## Importamos librerías que vamos a utilizar"
   ]
  },
  {
   "cell_type": "code",
   "execution_count": 33,
   "id": "6a38f37d",
   "metadata": {},
   "outputs": [],
   "source": [
    "import numpy as np\n",
    "import pandas as pd\n",
    "import re\n",
    "import warnings\n",
    "warnings.filterwarnings('ignore')\n",
    "\n",
    "from nltk.corpus import stopwords\n",
    "from nltk.stem.porter import PorterStemmer\n",
    "from nltk import word_tokenize\n",
    "\n",
    "from sklearn.feature_extraction.text import TfidfVectorizer\n",
    "from sklearn.model_selection import train_test_split, learning_curve\n",
    "from sklearn.linear_model import LogisticRegression\n",
    "from sklearn.metrics import confusion_matrix\n",
    "\n",
    "import matplotlib.pyplot as plt\n",
    "import seaborn as sns\n",
    "%config InlineBackend.figure_format='retina'\n",
    "%matplotlib inline\n",
    "\n",
    "sns.set()"
   ]
  },
  {
   "cell_type": "markdown",
   "id": "c5773901",
   "metadata": {},
   "source": [
    "# 2. Recogida de datos"
   ]
  },
  {
   "cell_type": "markdown",
   "id": "57b74d3c",
   "metadata": {},
   "source": [
    "Procesar miles de documentos requiere tiempo. Debido a esto, es conveniente utilizar un subconjunto durante la implementación y pruebas. La variable `num_docs`, definida a continuación, fija el tamaño de entrenamiento y test con el que trabajar. El máximo valor que puede tomar es 25000."
   ]
  },
  {
   "cell_type": "code",
   "execution_count": 2,
   "id": "1685b518",
   "metadata": {},
   "outputs": [],
   "source": [
    "num_docs = 5000 # Cambiar por 25000 para verificar en todo el conjunto del dataset"
   ]
  },
  {
   "cell_type": "markdown",
   "id": "6ede489e",
   "metadata": {},
   "source": [
    "Cargamos los datos del archivo `Data/datos_peliculas_train.csv` en un DataFrame `df_reviews`.\n",
    "\n",
    "También sería necesario desordenar los datos, ya que están ordenados por clase y, bien al seleccionar un subconjunto para pruebas, o posteriormente al dividir el conjunto en entrenamiento/validación, todos los casos correspondientes a una partición podrían corresponder a la misma clase."
   ]
  },
  {
   "cell_type": "code",
   "execution_count": 3,
   "id": "ad39429a",
   "metadata": {},
   "outputs": [
    {
     "data": {
      "text/html": [
       "<div>\n",
       "<style scoped>\n",
       "    .dataframe tbody tr th:only-of-type {\n",
       "        vertical-align: middle;\n",
       "    }\n",
       "\n",
       "    .dataframe tbody tr th {\n",
       "        vertical-align: top;\n",
       "    }\n",
       "\n",
       "    .dataframe thead th {\n",
       "        text-align: right;\n",
       "    }\n",
       "</style>\n",
       "<table border=\"1\" class=\"dataframe\">\n",
       "  <thead>\n",
       "    <tr style=\"text-align: right;\">\n",
       "      <th></th>\n",
       "      <th>review</th>\n",
       "      <th>sentiment</th>\n",
       "    </tr>\n",
       "  </thead>\n",
       "  <tbody>\n",
       "    <tr>\n",
       "      <th>0</th>\n",
       "      <td>Went to watch this movie expecting a 'nothing ...</td>\n",
       "      <td>0</td>\n",
       "    </tr>\n",
       "    <tr>\n",
       "      <th>1</th>\n",
       "      <td>This movie is wonderful. What separates it fro...</td>\n",
       "      <td>1</td>\n",
       "    </tr>\n",
       "    <tr>\n",
       "      <th>2</th>\n",
       "      <td>I guess I've seen worse films, but that may be...</td>\n",
       "      <td>0</td>\n",
       "    </tr>\n",
       "    <tr>\n",
       "      <th>3</th>\n",
       "      <td>If you like CB4, you have no idea what you're ...</td>\n",
       "      <td>1</td>\n",
       "    </tr>\n",
       "    <tr>\n",
       "      <th>4</th>\n",
       "      <td>Expecting to see a \"cute little film\" from mai...</td>\n",
       "      <td>1</td>\n",
       "    </tr>\n",
       "    <tr>\n",
       "      <th>...</th>\n",
       "      <td>...</td>\n",
       "      <td>...</td>\n",
       "    </tr>\n",
       "    <tr>\n",
       "      <th>4995</th>\n",
       "      <td>This is a good film for 99% of the duration. I...</td>\n",
       "      <td>1</td>\n",
       "    </tr>\n",
       "    <tr>\n",
       "      <th>4996</th>\n",
       "      <td>(aka: BLOOD CASTLE or SCREAM OF THE DEMON)&lt;br ...</td>\n",
       "      <td>0</td>\n",
       "    </tr>\n",
       "    <tr>\n",
       "      <th>4997</th>\n",
       "      <td>While essentially a remake of the original Chi...</td>\n",
       "      <td>1</td>\n",
       "    </tr>\n",
       "    <tr>\n",
       "      <th>4998</th>\n",
       "      <td>From the start I knew I would be in for the be...</td>\n",
       "      <td>1</td>\n",
       "    </tr>\n",
       "    <tr>\n",
       "      <th>4999</th>\n",
       "      <td>Highly recommended!!&lt;br /&gt;&lt;br /&gt;A well written...</td>\n",
       "      <td>1</td>\n",
       "    </tr>\n",
       "  </tbody>\n",
       "</table>\n",
       "<p>5000 rows × 2 columns</p>\n",
       "</div>"
      ],
      "text/plain": [
       "                                                 review  sentiment\n",
       "0     Went to watch this movie expecting a 'nothing ...          0\n",
       "1     This movie is wonderful. What separates it fro...          1\n",
       "2     I guess I've seen worse films, but that may be...          0\n",
       "3     If you like CB4, you have no idea what you're ...          1\n",
       "4     Expecting to see a \"cute little film\" from mai...          1\n",
       "...                                                 ...        ...\n",
       "4995  This is a good film for 99% of the duration. I...          1\n",
       "4996  (aka: BLOOD CASTLE or SCREAM OF THE DEMON)<br ...          0\n",
       "4997  While essentially a remake of the original Chi...          1\n",
       "4998  From the start I knew I would be in for the be...          1\n",
       "4999  Highly recommended!!<br /><br />A well written...          1\n",
       "\n",
       "[5000 rows x 2 columns]"
      ]
     },
     "execution_count": 3,
     "metadata": {},
     "output_type": "execute_result"
    }
   ],
   "source": [
    "np.random.seed(0)\n",
    "\n",
    "df_reviews = pd.read_csv('Data/datos_peliculas_train.csv')\n",
    "\n",
    "df_reviews = df_reviews.sample(frac=1).reset_index(drop=True)\n",
    "\n",
    "df_reviews = df_reviews.iloc[:num_docs, :]\n",
    "\n",
    "df_reviews"
   ]
  },
  {
   "cell_type": "markdown",
   "id": "4529e603",
   "metadata": {},
   "source": [
    "Cargamos los datos del archivo `Data/datos_peliculas_test.csv` en un DataFrame `df_new_reviews`. Y volvemos a seleccionar los `num_docs` primeros casos e, igual que el caso anterior, desordenar el DataFrame.\n",
    "\n",
    "Estos datos solo los vamos a utilizar para evaluar el rendimiento del modelo final."
   ]
  },
  {
   "cell_type": "code",
   "execution_count": 4,
   "id": "a4b88e64",
   "metadata": {
    "scrolled": false
   },
   "outputs": [
    {
     "data": {
      "text/html": [
       "<div>\n",
       "<style scoped>\n",
       "    .dataframe tbody tr th:only-of-type {\n",
       "        vertical-align: middle;\n",
       "    }\n",
       "\n",
       "    .dataframe tbody tr th {\n",
       "        vertical-align: top;\n",
       "    }\n",
       "\n",
       "    .dataframe thead th {\n",
       "        text-align: right;\n",
       "    }\n",
       "</style>\n",
       "<table border=\"1\" class=\"dataframe\">\n",
       "  <thead>\n",
       "    <tr style=\"text-align: right;\">\n",
       "      <th></th>\n",
       "      <th>review</th>\n",
       "      <th>sentiment</th>\n",
       "    </tr>\n",
       "  </thead>\n",
       "  <tbody>\n",
       "    <tr>\n",
       "      <th>0</th>\n",
       "      <td>Okay, I like to give the benefit of the doubt....</td>\n",
       "      <td>0</td>\n",
       "    </tr>\n",
       "    <tr>\n",
       "      <th>1</th>\n",
       "      <td>I remember seeing this film when I was 13 year...</td>\n",
       "      <td>1</td>\n",
       "    </tr>\n",
       "    <tr>\n",
       "      <th>2</th>\n",
       "      <td>&lt;br /&gt;&lt;br /&gt;This movie really has nothing goin...</td>\n",
       "      <td>0</td>\n",
       "    </tr>\n",
       "    <tr>\n",
       "      <th>3</th>\n",
       "      <td>This movie was better than I expected. I don't...</td>\n",
       "      <td>1</td>\n",
       "    </tr>\n",
       "    <tr>\n",
       "      <th>4</th>\n",
       "      <td>A formulaic story with all the tired cliches. ...</td>\n",
       "      <td>0</td>\n",
       "    </tr>\n",
       "    <tr>\n",
       "      <th>...</th>\n",
       "      <td>...</td>\n",
       "      <td>...</td>\n",
       "    </tr>\n",
       "    <tr>\n",
       "      <th>4995</th>\n",
       "      <td>Great job! Was very exciting and had great stu...</td>\n",
       "      <td>1</td>\n",
       "    </tr>\n",
       "    <tr>\n",
       "      <th>4996</th>\n",
       "      <td>It's particularly hard for a director to captu...</td>\n",
       "      <td>1</td>\n",
       "    </tr>\n",
       "    <tr>\n",
       "      <th>4997</th>\n",
       "      <td>This film, which I rented under the title \"Bla...</td>\n",
       "      <td>0</td>\n",
       "    </tr>\n",
       "    <tr>\n",
       "      <th>4998</th>\n",
       "      <td>When, oh when, will Hollyweird write a decent ...</td>\n",
       "      <td>0</td>\n",
       "    </tr>\n",
       "    <tr>\n",
       "      <th>4999</th>\n",
       "      <td>The centurions is one of the best cartoons eve...</td>\n",
       "      <td>1</td>\n",
       "    </tr>\n",
       "  </tbody>\n",
       "</table>\n",
       "<p>5000 rows × 2 columns</p>\n",
       "</div>"
      ],
      "text/plain": [
       "                                                 review  sentiment\n",
       "0     Okay, I like to give the benefit of the doubt....          0\n",
       "1     I remember seeing this film when I was 13 year...          1\n",
       "2     <br /><br />This movie really has nothing goin...          0\n",
       "3     This movie was better than I expected. I don't...          1\n",
       "4     A formulaic story with all the tired cliches. ...          0\n",
       "...                                                 ...        ...\n",
       "4995  Great job! Was very exciting and had great stu...          1\n",
       "4996  It's particularly hard for a director to captu...          1\n",
       "4997  This film, which I rented under the title \"Bla...          0\n",
       "4998  When, oh when, will Hollyweird write a decent ...          0\n",
       "4999  The centurions is one of the best cartoons eve...          1\n",
       "\n",
       "[5000 rows x 2 columns]"
      ]
     },
     "execution_count": 4,
     "metadata": {},
     "output_type": "execute_result"
    }
   ],
   "source": [
    "df_new_reviews = pd.read_csv('Data/datos_peliculas_test.csv')\n",
    "\n",
    "df_new_reviews = df_new_reviews.sample(frac=1).reset_index(drop=True)\n",
    "\n",
    "df_new_reviews = df_new_reviews.iloc[:num_docs, :]\n",
    "\n",
    "df_new_reviews"
   ]
  },
  {
   "cell_type": "markdown",
   "id": "9bbf8de9",
   "metadata": {},
   "source": [
    "# 3. Preparación de datos"
   ]
  },
  {
   "cell_type": "markdown",
   "id": "0a5c5449",
   "metadata": {},
   "source": [
    "Una vez recogidos los datos, y almacenados en un formato adecuado, se procede a la creación de un conjunto de entrenamiento de tipo *Bag of Words* en el que cada revisión se representará mediante una lista de términos y su clase. En primer lugar, han de limpiarse los datos, es decir, eliminar etiquetas HTML y los signos. Para lo que se van a crear varias funciones y, después, se convertirá cada cadena de texto en una lista de términos relevantes."
   ]
  },
  {
   "cell_type": "markdown",
   "id": "f65c1dcd",
   "metadata": {},
   "source": [
    "## 3.1 Eliminación de etiquetas HTML"
   ]
  },
  {
   "cell_type": "markdown",
   "id": "d46af8c5",
   "metadata": {},
   "source": [
    "Por lo general, las etiquetas HTML introducen información innecesaria en el modelo *Bag of Words*, por lo que es conveniente eliminarlas.\n",
    "\n",
    "Vamos a implementar una función `removeHTML()`, que tome como parámetro una cadena de texto, elimina las etiquetas de esta y devuelva una nueva cadena. Para desarrollarla vamos a apoyarnos en las expresiones regulares."
   ]
  },
  {
   "cell_type": "code",
   "execution_count": 5,
   "id": "a2362dd8",
   "metadata": {},
   "outputs": [],
   "source": [
    "def removeHTML(text):\n",
    "    text = re.sub('<[^>]*>', '', text)\n",
    "    return text"
   ]
  },
  {
   "cell_type": "markdown",
   "id": "25fe66d7",
   "metadata": {},
   "source": [
    "## 3.2 Eliminación de caracteres no alfabéticos (Excepto emoticonos)"
   ]
  },
  {
   "cell_type": "markdown",
   "id": "d0117843",
   "metadata": {},
   "source": [
    "Los caracteres no alfabéticos tampoco son relevantes en el modelo *Bag of Words*. Sin embargo, en este contexto sí que pueden serlo los emoticonos, ya que contienen información relevante con respescto a la valoración que se hace en los comentarios.\n",
    "\n",
    "Vamos a implementar una función `clean()`, que tome como parámetro una cadena de texto y elimine de esta los caracteres que no correspondan a palabras, excluyendo los emoticonos. Para esto, vamos a detectar y guardar emoticonos, eliminar los caracteres no alfabéticos y, finalmente, añadir al resultado los emoticonos detectados en el primer paso.\n",
    "\n",
    "También será necesario utilizar expresiones regulares. Vamos a considerar que los emoticonos se componen de tres partes: ojos, que pueden ser uno de estos tres caracteres {`:` `;` `=`}, boca que puede ser {`)` `(` `D` `P`} y, opcionalmente, nariz {`-`}.\n",
    "Se trata de construir una expresión regular que encuentre una sucesión de estos tres elementos."
   ]
  },
  {
   "cell_type": "code",
   "execution_count": 6,
   "id": "79abdb03",
   "metadata": {},
   "outputs": [],
   "source": [
    "def clean(text):\n",
    "    # Guardamos los emoticonos\n",
    "    emoticons = re.findall('(?::|;|=)(?:-?)(?:\\)|\\(|D|P)', text)\n",
    "    \n",
    "    # Eliminamos los caracteres no alfabeticos\n",
    "    text = re.sub('[\\W]+', ' ', text.lower())\n",
    "    text = re.sub('[\\d]+', '', text.lower())\n",
    "    \n",
    "    # Añadir los emotcionos, eliminando '-'\n",
    "    text = text + ' '.join(emoticons).replace('-', '')\n",
    "    \n",
    "    return text"
   ]
  },
  {
   "cell_type": "markdown",
   "id": "055f7813",
   "metadata": {},
   "source": [
    "# 4. Elaboración de la lista de palabras relevantes"
   ]
  },
  {
   "cell_type": "markdown",
   "id": "a54d6b11",
   "metadata": {},
   "source": [
    "En el siguiente paso del preprocesamiento consiste en elaborar una lista de palabras. Una opción es dividir la cadena de texto con el método `split()`. Pero es recomendable seguir unos pasos adicionales. Por ejemplo, existen palabras que no proporcionan ninguna información y que es mejor eliminar, las *stopwords*, y que podemos tratar con la librería NLTK."
   ]
  },
  {
   "cell_type": "code",
   "execution_count": 7,
   "id": "9d90b477",
   "metadata": {},
   "outputs": [
    {
     "name": "stdout",
     "output_type": "stream",
     "text": [
      "['i', 'me', 'my', 'myself', 'we', 'our', 'ours', 'ourselves', 'you', \"you're\", \"you've\", \"you'll\", \"you'd\", 'your', 'yours', 'yourself', 'yourselves', 'he', 'him', 'his', 'himself', 'she', \"she's\", 'her', 'hers', 'herself', 'it', \"it's\", 'its', 'itself', 'they', 'them', 'their', 'theirs', 'themselves', 'what', 'which', 'who', 'whom', 'this', 'that', \"that'll\", 'these', 'those', 'am', 'is', 'are', 'was', 'were', 'be', 'been', 'being', 'have', 'has', 'had', 'having', 'do', 'does', 'did', 'doing', 'a', 'an', 'the', 'and', 'but', 'if', 'or', 'because', 'as', 'until', 'while', 'of', 'at', 'by', 'for', 'with', 'about', 'against', 'between', 'into', 'through', 'during', 'before', 'after', 'above', 'below', 'to', 'from', 'up', 'down', 'in', 'out', 'on', 'off', 'over', 'under', 'again', 'further', 'then', 'once', 'here', 'there', 'when', 'where', 'why', 'how', 'all', 'any', 'both', 'each', 'few', 'more', 'most', 'other', 'some', 'such', 'no', 'nor', 'not', 'only', 'own', 'same', 'so', 'than', 'too', 'very', 's', 't', 'can', 'will', 'just', 'don', \"don't\", 'should', \"should've\", 'now', 'd', 'll', 'm', 'o', 're', 've', 'y', 'ain', 'aren', \"aren't\", 'couldn', \"couldn't\", 'didn', \"didn't\", 'doesn', \"doesn't\", 'hadn', \"hadn't\", 'hasn', \"hasn't\", 'haven', \"haven't\", 'isn', \"isn't\", 'ma', 'mightn', \"mightn't\", 'mustn', \"mustn't\", 'needn', \"needn't\", 'shan', \"shan't\", 'shouldn', \"shouldn't\", 'wasn', \"wasn't\", 'weren', \"weren't\", 'won', \"won't\", 'wouldn', \"wouldn't\"]\n"
     ]
    }
   ],
   "source": [
    "stopwords_eng = stopwords.words('english')\n",
    "print(stopwords_eng)"
   ]
  },
  {
   "cell_type": "markdown",
   "id": "2242582d",
   "metadata": {},
   "source": [
    "Por otra parte, las cadenas \"gusta\" y \"gustó\" son distintas, por lo que también se considerarían palabras distintas. Esto podría repercutir en una degradación del rendimiento del modelo. Existen dos técnicas que permiten agrupar palabras por familias:\n",
    " - `Stemming`: Consiste en reducir cada palabra a su raíz.\n",
    " - `Lematización`: Consiste en reemplazar cada palab ra por su lema que, en el ejemplo, sería \"gustar\"."
   ]
  },
  {
   "cell_type": "code",
   "execution_count": 8,
   "id": "dda80514",
   "metadata": {},
   "outputs": [],
   "source": [
    "stemmer = PorterStemmer()"
   ]
  },
  {
   "cell_type": "markdown",
   "id": "1b577369",
   "metadata": {},
   "source": [
    "Vamos a crear una función `extracTerms()` que toma por parámetro una cadena de caracteres y que devuelva la lista de términos correspondiente, descartandos las *stopwords* y sustituyendo cada palabra por su raíz. \n",
    "\n",
    "La descomposición de la cadena en palabras puede hacerse con el método `split()`. Sin embargo, es preferible utilizar la función `word_tokenize()`."
   ]
  },
  {
   "cell_type": "code",
   "execution_count": 9,
   "id": "953844c5",
   "metadata": {},
   "outputs": [],
   "source": [
    "def extracTerms(text):\n",
    "    word_list = [w for w in word_tokenize(text) if w not in stopwords_eng]\n",
    "    \n",
    "    word_list = [stemmer.stem(word) for word in word_list]\n",
    "    \n",
    "    return word_list"
   ]
  },
  {
   "cell_type": "markdown",
   "id": "31b3ff30",
   "metadata": {},
   "source": [
    "La función `PorterStemmer` devuelve excepciones en algunos casos. Parece que utilizando solamente 5000 casos no hay problema. Sin embargo, sí que lo hay con algún caso concreto que aparece después. Por tanto, se recomienda comentar la línea correspondiente si se utiliza un número mayor de ejemplos. Como consecuencia, el vocabulario crecerá bastante."
   ]
  },
  {
   "cell_type": "markdown",
   "id": "4316c21e",
   "metadata": {},
   "source": [
    "# 5. Preprocesamiento del conjunto de datos"
   ]
  },
  {
   "cell_type": "markdown",
   "id": "553705bd",
   "metadata": {},
   "source": [
    "Una vez implementadas las funciones, se procederá al preprocesamiento de datos.\n",
    "\n",
    "Procesar los datos del DataFrame `df_reviews` con los métodos indicados aplicando sucesivamente las funciones `removeHTML()` y `clean()` sobre el campo `review`."
   ]
  },
  {
   "cell_type": "code",
   "execution_count": 10,
   "id": "26ac81c6",
   "metadata": {
    "scrolled": false
   },
   "outputs": [],
   "source": [
    "df_reviews['review'] = df_reviews['review'].apply(removeHTML)\n",
    "df_reviews['review'] = df_reviews['review'].apply(clean)"
   ]
  },
  {
   "cell_type": "markdown",
   "id": "696316b1",
   "metadata": {},
   "source": [
    "# 6. Representación de datos mediante matriz TF-IDF"
   ]
  },
  {
   "cell_type": "markdown",
   "id": "bd31987f",
   "metadata": {},
   "source": [
    "Con los datos ya limpios, vamos a construir un conjunto de entrenamiento a partir de la representación *Bag of Words*. Para ello, vamos a utilizar el objeto `TfidfVectorizer`. El método `TfidfVectorizer.fit()` recibe el conjunto de documentos, y genera un vocabulario con todos los términos que aparecen en él. Éste será almacenado en un campo, `vocabulary_`, que es un diccionario en el que las claves corresponden a cada uno de los términos, y los valores a su índice.\n",
    "También almacena otros parámetros necesarios para el cálculo de la métrica, como el número de documentos en los que aparece cada término. Por otra parte, una vez creado el vocabulario, el método `transform()` recibe un conjunto de documentos y genera la matriz de datos en la que la posición (d, t) contiene el valor tf - id$f_{d,t}$. En este caso, que se van a utilizar los mismos documentos para instanciar el objeto y crear la matriz, se puede llamar directamente al método `fit_transform()`, lo que equivale a llamar secuencialmente a los dos anteriores.\n",
    "\n",
    "El objeto `TfidfVectorizer` acepta un parámetro `tokenizer`, mediante el que se puede pasar una función para llevar a cabo la descomposición de la cadena de caracteres en términos. En este caso, vamos a pasar la función `extractTerms()`.<br>\n",
    "También se va a utilizar otro parámetro de interés, denominado `ngram_range` que permite que, además de términos, se consideren n-gramas o secuencia de términos.\n",
    "\n",
    "**Objetivo**: Construir un objeto de la clase `TfidfVectorizer`, transformar la columna review en una matriz de datos que será almacenada en una variable e imprimir el vocabulario."
   ]
  },
  {
   "cell_type": "code",
   "execution_count": 11,
   "id": "d2adbc35",
   "metadata": {},
   "outputs": [
    {
     "name": "stdout",
     "output_type": "stream",
     "text": [
      "Tamaño vocabulario:  26340\n"
     ]
    }
   ],
   "source": [
    "tfidf_vec = TfidfVectorizer(tokenizer=extracTerms,\n",
    "                            ngram_range=(1,1))\n",
    "tfidf_reviews = tfidf_vec.fit_transform(df_reviews['review'])\n",
    "\n",
    "print('Tamaño vocabulario: ', len(tfidf_vec.vocabulary_))"
   ]
  },
  {
   "cell_type": "markdown",
   "id": "cb6e039e",
   "metadata": {},
   "source": [
    "Vamos a aprovechar también para crear los arrays con los datos por legibilidad."
   ]
  },
  {
   "cell_type": "code",
   "execution_count": 12,
   "id": "1b04de9c",
   "metadata": {},
   "outputs": [],
   "source": [
    "X = tfidf_reviews\n",
    "y = df_reviews['sentiment'].values"
   ]
  },
  {
   "cell_type": "markdown",
   "id": "30443a89",
   "metadata": {},
   "source": [
    "# 7. Aprendizaje de un modelo de regresión logística"
   ]
  },
  {
   "cell_type": "markdown",
   "id": "05a2f6cf",
   "metadata": {},
   "source": [
    "## 7.1 Ajuste del parámetro de regularización mediante selección de modelos"
   ]
  },
  {
   "cell_type": "markdown",
   "id": "db5c69c1",
   "metadata": {},
   "source": [
    "Disponiendo del conjunto de datos y con objetivo de ajustar los parámetros del modelo, vamos a hacer la división en dos partes con el método `train_test_split`.<br>\n",
    "El 75% de los datos se utilizarán para entrenamiento, y las variables de entrada y salida se guardarán en las variables `X_train`e `y_train`, respectivamente. El resto de datos se dedicarán a la validación, almacenadas en las variables `X_val` e `y_val`."
   ]
  },
  {
   "cell_type": "code",
   "execution_count": 13,
   "id": "625270c9",
   "metadata": {},
   "outputs": [],
   "source": [
    "X_train, X_val, y_train, y_val = train_test_split(X,\n",
    "                                                  y,\n",
    "                                                  test_size=0.25)"
   ]
  },
  {
   "cell_type": "code",
   "execution_count": 14,
   "id": "8c57c52b",
   "metadata": {},
   "outputs": [
    {
     "name": "stdout",
     "output_type": "stream",
     "text": [
      "(3750, 26340) (3750,) (1250, 26340) (1250,)\n"
     ]
    }
   ],
   "source": [
    "print(X_train.shape, y_train.shape, X_val.shape, y_val.shape)"
   ]
  },
  {
   "cell_type": "markdown",
   "id": "c9e924bd",
   "metadata": {},
   "source": [
    "Vamos a aprender un modelo de regresión logística, almacenado en `lr_model`, con los datos de entrenamiento `X` e `y` y verificaremos el acierto sobre ese conjunto de entrenamiento. <br>\n",
    "Se fijará el parámetro C = 10 (representa la inversa de la regularización, es decir, **C = $\\frac{1}{\\lambda}$**"
   ]
  },
  {
   "cell_type": "code",
   "execution_count": 15,
   "id": "afaeb551",
   "metadata": {},
   "outputs": [
    {
     "name": "stdout",
     "output_type": "stream",
     "text": [
      "Acierto (Entrenamiento): 0.9986666666666667 \n",
      "Acierto (Validación): 0.8464 \n"
     ]
    }
   ],
   "source": [
    "lr_model = LogisticRegression(C=10,\n",
    "                              random_state=42)\n",
    "lr_model.fit(X_train,\n",
    "             y_train)\n",
    "\n",
    "print('Acierto (Entrenamiento): {} '.format(lr_model.score(X_train, y_train)))\n",
    "print('Acierto (Validación): {} '.format(lr_model.score(X_val, y_val)))"
   ]
  },
  {
   "cell_type": "markdown",
   "id": "b7985372",
   "metadata": {},
   "source": [
    "Tras utilizar un valor arbitrario para el parámetro C. Vamos a implementar un método de selección de modelos para determinar el valor óptimo para el parámetro de regularización. Se van a probar valores desde $10^{-5}$ a $10^{5}$."
   ]
  },
  {
   "cell_type": "code",
   "execution_count": 16,
   "id": "ecabee76",
   "metadata": {
    "scrolled": true
   },
   "outputs": [
    {
     "name": "stdout",
     "output_type": "stream",
     "text": [
      "C=1.000000e-05 \t Entrenamiento: 0.506 / Validación 0.486 \n",
      "C=1.000000e-04 \t Entrenamiento: 0.506 / Validación 0.486 \n",
      "C=1.000000e-03 \t Entrenamiento: 0.506 / Validación 0.486 \n",
      "C=1.000000e-02 \t Entrenamiento: 0.817 / Validación 0.746 \n",
      "C=1.000000e-01 \t Entrenamiento: 0.882 / Validación 0.822 \n",
      "C=1.000000e+00 \t Entrenamiento: 0.955 / Validación 0.850 \n",
      "C=1.000000e+01 \t Entrenamiento: 0.999 / Validación 0.846 \n",
      "C=1.000000e+02 \t Entrenamiento: 1.000 / Validación 0.836 \n",
      "C=1.000000e+03 \t Entrenamiento: 1.000 / Validación 0.834 \n",
      "C=1.000000e+04 \t Entrenamiento: 1.000 / Validación 0.830 \n",
      "C=1.000000e+05 \t Entrenamiento: 1.000 / Validación 0.829 \n",
      "\n",
      "Valor óptimo para el parámetro de regularización:  1.0\n"
     ]
    }
   ],
   "source": [
    "c_range = np.logspace(-5, 5, 11)\n",
    "best_score = 0\n",
    "C_b  = 0\n",
    "\n",
    "for C in c_range:\n",
    "    lr_model.set_params(C=C)\n",
    "    lr_model.fit(X_train, y_train)\n",
    "    train_score, val_score = lr_model.score(X_train, y_train), lr_model.score(X_val, y_val)\n",
    "    if val_score > best_score:\n",
    "        best_score = val_score\n",
    "        C_b = C\n",
    "    \n",
    "    print(\"C=%e \\t Entrenamiento: %.3f / Validación %.3f \" % (C, train_score, val_score))\n",
    "    \n",
    "print(\"\\nValor óptimo para el parámetro de regularización: \", C_b)"
   ]
  },
  {
   "cell_type": "code",
   "execution_count": 17,
   "id": "bdd3f045",
   "metadata": {},
   "outputs": [
    {
     "name": "stdout",
     "output_type": "stream",
     "text": [
      "Acierto (Entrenamiento): 0.9546666666666667 \n",
      "Acierto (Validación): 0.8496 \n"
     ]
    }
   ],
   "source": [
    "lr_model = LogisticRegression(C=C_b,\n",
    "                              random_state=42)\n",
    "lr_model.fit(X_train,\n",
    "             y_train)\n",
    "\n",
    "print('Acierto (Entrenamiento): {} '.format(lr_model.score(X_train, y_train)))\n",
    "print('Acierto (Validación): {} '.format(lr_model.score(X_val, y_val)))"
   ]
  },
  {
   "cell_type": "markdown",
   "id": "69cc8983",
   "metadata": {},
   "source": [
    "## 7.2 Ajuste del parámetro de regularización mediante selección de modelos"
   ]
  },
  {
   "cell_type": "markdown",
   "id": "c1029f8c",
   "metadata": {},
   "source": [
    "La selección del parámetro C también puede hacerse mediante `GridSearchCV`. En este caso no haría falta dividir X en train/test, ya que utiliza validación cruzada."
   ]
  },
  {
   "cell_type": "code",
   "execution_count": 18,
   "id": "2e74d7d4",
   "metadata": {},
   "outputs": [
    {
     "name": "stdout",
     "output_type": "stream",
     "text": [
      "{'C': 10.0}\n",
      "0.8606\n"
     ]
    }
   ],
   "source": [
    "from sklearn.model_selection import GridSearchCV\n",
    "\n",
    "lf_model = GridSearchCV(LogisticRegression(random_state=42),\n",
    "                        param_grid={\"C\":np.logspace(-5, 5, 11)},\n",
    "                        cv=5)\n",
    "\n",
    "lf_model.fit(X, y)\n",
    "\n",
    "print(lf_model.best_params_)\n",
    "print(lf_model.best_score_)"
   ]
  },
  {
   "cell_type": "code",
   "execution_count": 19,
   "id": "14092678",
   "metadata": {},
   "outputs": [],
   "source": [
    "lf_model = lf_model.best_estimator_"
   ]
  },
  {
   "cell_type": "markdown",
   "id": "ca389321",
   "metadata": {},
   "source": [
    "# 8. Validación del modelo"
   ]
  },
  {
   "cell_type": "markdown",
   "id": "5c1e02b7",
   "metadata": {},
   "source": [
    "## 8.1 Curva de aprendizaje"
   ]
  },
  {
   "cell_type": "markdown",
   "id": "2a0ff554",
   "metadata": {},
   "source": [
    "Además de las tasas de acierto y error, es conveniente explorar la curva de aprendizaje para tener una visión del comportamiento del algoritmo.</br>\n",
    "En concreto, es posible ver si el tamaño del conjunto de datos no es suficientemente grande, o se ha llegado a un punto en el que añadir más datos no aporta mejora.\n",
    "\n",
    "Obtener los datos relativos a la curva de aprendizaje del modelo anterior. Vamos a utilizar el método `learning_curve()`, y tamaños del 10% al 100% del conjunto de entrenamiento y 5-validación cruzada. Almacenar la media de acierto sobre entrenamiento en las 5 ejecuciones correspondiente a cada tamaño en el vector `train_scores_mean` y su desviación en `test_scores_std`."
   ]
  },
  {
   "cell_type": "code",
   "execution_count": 26,
   "id": "014af987",
   "metadata": {},
   "outputs": [],
   "source": [
    "sizes = np.array([0.1, 0.2, 0.3, 0.4, 0.5, 0.6, 0.7, 0.8, 1])\n",
    "\n",
    "train_sizes, train_scores, test_scores = learning_curve(lf_model,\n",
    "                                                        X, y,\n",
    "                                                        cv=5,\n",
    "                                                        train_sizes=sizes)\n",
    "\n",
    "train_scores_mean = np.mean(train_scores, axis=1)\n",
    "train_scores_std = np.std(train_scores, axis=1)\n",
    "test_scores_mean = np.mean(test_scores, axis=1)\n",
    "test_scores_std = np.std(test_scores, axis=1)"
   ]
  },
  {
   "cell_type": "code",
   "execution_count": 27,
   "id": "9bc002c1",
   "metadata": {},
   "outputs": [
    {
     "data": {
      "image/png": "[encoded data removed]",
      "text/plain": [
       "<Figure size 640x480 with 1 Axes>"
      ]
     },
     "metadata": {
      "image/png": {
       "height": 446,
       "width": 579
      }
     },
     "output_type": "display_data"
    }
   ],
   "source": [
    "plt.xlabel('Tamaño conjunto de entrenamiento', labelpad=10)\n",
    "plt.ylabel('Acierto')\n",
    "\n",
    "plt.fill_between(train_sizes,\n",
    "                 train_scores_mean - train_scores_std,\n",
    "                 train_scores_mean + train_scores_std,\n",
    "                 alpha=0.1,\n",
    "                 color='b')\n",
    "\n",
    "plt.fill_between(train_sizes,\n",
    "                 test_scores_mean - test_scores_std,\n",
    "                 test_scores_mean + test_scores_std,\n",
    "                 alpha=0.1,\n",
    "                 color='r')\n",
    "\n",
    "plt.plot(train_sizes,\n",
    "         train_scores_mean,\n",
    "         'o-',\n",
    "         color='b',\n",
    "         label='Entrenamiento')\n",
    "plt.plot(train_sizes,\n",
    "         test_scores_mean,\n",
    "         'o-',\n",
    "         color='r',\n",
    "         label='Validación')\n",
    "\n",
    "plt.legend(loc=4, fontsize=10)\n",
    "plt.show()"
   ]
  },
  {
   "cell_type": "markdown",
   "id": "c337114c",
   "metadata": {},
   "source": [
    "# 9. Evaluación del modelo"
   ]
  },
  {
   "cell_type": "markdown",
   "id": "bb44804b",
   "metadata": {},
   "source": [
    "El rendimiento real del modelo tiene que ser evaluado con datos no utilizados en el proceso de aprendizaje o validación.\n",
    "\n",
    "La evaluación del rendimiento del modelo anterior, se hará sobre los datos del DataFrame `df_new_reviews`. Para ello, es necesario someter los nuevos comentarios al mismo proceso de limpieza y preprocesamiento. En este último paso, es necesario utilizar el mismo objeto `TfidfVectorizer` creado para el entrenamiento del modelo para producir la matriz de datos `tfidf_test`. Por último, se copiará esa matriz de datos en la variable `X_test`, y se obtendrá los valores del campo `sentiment`, que se almacenará en `y_test`."
   ]
  },
  {
   "cell_type": "code",
   "execution_count": 28,
   "id": "9784c17a",
   "metadata": {},
   "outputs": [],
   "source": [
    "df_new_reviews['review'] = df_new_reviews['review'].apply(removeHTML)\n",
    "df_new_reviews['review'] = df_new_reviews['review'].apply(clean)\n",
    "\n",
    "tfidf_test = tfidf_vec.transform(df_new_reviews['review'])\n",
    "\n",
    "X_test = tfidf_test\n",
    "y_test = df_new_reviews['sentiment'].values"
   ]
  },
  {
   "cell_type": "code",
   "execution_count": 32,
   "id": "4b390105",
   "metadata": {},
   "outputs": [
    {
     "name": "stdout",
     "output_type": "stream",
     "text": [
      "Tasa de acierto (Conjunto de test): 85.18%\n"
     ]
    }
   ],
   "source": [
    "print('Tasa de acierto (Conjunto de test): {}%'.format(lf_model.score(X_test, y_test)*100))"
   ]
  },
  {
   "cell_type": "markdown",
   "id": "03ee9512",
   "metadata": {},
   "source": [
    "Esta es la probabilidad de clasificar correctamente una revisión. Sin embargo, si queremos hacer una estimación global de la tasa de comentarios positivos, y asumiendo que el error se distribuya independientemente de la clase, es posible tener algo más de precisión.\n",
    "\n",
    "Obtener la matriz de confusión, reportar la proporción de comentarios positivos real en test, y la proporción de comentarios positivos detectada."
   ]
  },
  {
   "cell_type": "code",
   "execution_count": 34,
   "id": "a8230581",
   "metadata": {},
   "outputs": [],
   "source": [
    "y_pred = lf_model.predict(X_test)\n",
    "\n",
    "cm = confusion_matrix(y_test,\n",
    "                      y_pred)\n",
    "\n",
    "prop_real = np.sum(y_test)/len(y_test)\n",
    "prop_etiq = (cm[0,1] + cm[1,1])/len(y_test)"
   ]
  },
  {
   "cell_type": "code",
   "execution_count": 35,
   "id": "8b82b3f4",
   "metadata": {},
   "outputs": [
    {
     "name": "stdout",
     "output_type": "stream",
     "text": [
      "Matriz de confusión: \n",
      "\n",
      " [[2081  403]\n",
      " [ 338 2178]] \n",
      "\n",
      "Proporcion de comentarios positivos: 0.50\n",
      "Proporcion de comentarios etiquetados: 0.52\n"
     ]
    }
   ],
   "source": [
    "print('Matriz de confusión: \\n\\n', cm, '\\n')\n",
    "print('Proporcion de comentarios positivos: %.2f' % prop_real)\n",
    "print('Proporcion de comentarios etiquetados: %.2f' % prop_etiq)"
   ]
  },
  {
   "cell_type": "markdown",
   "id": "b10bd9e8",
   "metadata": {},
   "source": [
    "Ha etiquetado 403 comentarios positivos que son realmente negativos, y 338 negativos que son positivos."
   ]
  },
  {
   "cell_type": "markdown",
   "id": "5ac69d9a",
   "metadata": {},
   "source": [
    "# 10. Extracción de información del modelo"
   ]
  },
  {
   "cell_type": "code",
   "execution_count": null,
   "id": "12936407",
   "metadata": {},
   "outputs": [],
   "source": []
  }
 ],
 "metadata": {
  "kernelspec": {
   "display_name": "Python 3 (ipykernel)",
   "language": "python",
   "name": "python3"
  },
  "language_info": {
   "codemirror_mode": {
    "name": "ipython",
    "version": 3
   },
   "file_extension": ".py",
   "mimetype": "text/x-python",
   "name": "python",
   "nbconvert_exporter": "python",
   "pygments_lexer": "ipython3",
   "version": "3.10.9"
  }
 },
 "nbformat": 4,
 "nbformat_minor": 5
}
